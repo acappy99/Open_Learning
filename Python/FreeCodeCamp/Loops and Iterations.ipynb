{
 "cells": [
  {
   "cell_type": "markdown",
   "metadata": {},
   "source": [
    "# Loops"
   ]
  },
  {
   "cell_type": "markdown",
   "metadata": {},
   "source": [
    "## While (indefinite) loops"
   ]
  },
  {
   "cell_type": "code",
   "execution_count": 1,
   "metadata": {},
   "outputs": [],
   "source": [
    "n = 5"
   ]
  },
  {
   "cell_type": "code",
   "execution_count": 2,
   "metadata": {},
   "outputs": [
    {
     "name": "stdout",
     "output_type": "stream",
     "text": [
      "5\n",
      "4\n",
      "3\n",
      "2\n",
      "1\n",
      "Blastoff\n",
      "0\n"
     ]
    }
   ],
   "source": [
    "while n > 0:\n",
    "    print(n)\n",
    "    n = n - 1\n",
    "print('Blastoff')\n",
    "print(n)"
   ]
  },
  {
   "cell_type": "markdown",
   "metadata": {},
   "source": [
    "### Breaking out"
   ]
  },
  {
   "cell_type": "code",
   "execution_count": 3,
   "metadata": {},
   "outputs": [
    {
     "name": "stdout",
     "output_type": "stream",
     "text": [
      "< hello\n",
      "hello\n",
      "< helllo\n",
      "helllo\n",
      "< done\n",
      "Done!\n"
     ]
    }
   ],
   "source": [
    "# infinite loop\n",
    "\n",
    "while True:\n",
    "    line = input('< ')\n",
    "    if line == 'done' :\n",
    "        break\n",
    "    print(line)\n",
    "print('Done!')"
   ]
  },
  {
   "cell_type": "markdown",
   "metadata": {},
   "source": [
    "### Continue"
   ]
  },
  {
   "cell_type": "code",
   "execution_count": 4,
   "metadata": {},
   "outputs": [
    {
     "name": "stdout",
     "output_type": "stream",
     "text": [
      "> #Hello\n",
      "> #Goodmorning\n",
      "> This is code\n",
      "This is code\n",
      "> under review\n",
      "under review\n",
      "> done\n",
      "Done!\n"
     ]
    }
   ],
   "source": [
    "# idea of how commenting works\n",
    "\n",
    "while True:\n",
    "    line = input('> ')\n",
    "    if line[0] == '#':\n",
    "        continue\n",
    "    if line == 'done':\n",
    "        break\n",
    "    print(line)\n",
    "print('Done!')"
   ]
  },
  {
   "cell_type": "code",
   "execution_count": null,
   "metadata": {},
   "outputs": [],
   "source": []
  },
  {
   "cell_type": "markdown",
   "metadata": {},
   "source": [
    "# Iterations"
   ]
  },
  {
   "cell_type": "markdown",
   "metadata": {},
   "source": [
    "## Definite loops"
   ]
  },
  {
   "cell_type": "code",
   "execution_count": 6,
   "metadata": {},
   "outputs": [
    {
     "name": "stdout",
     "output_type": "stream",
     "text": [
      "5\n",
      "4\n",
      "3\n",
      "2\n",
      "1\n",
      "Blastoff\n"
     ]
    }
   ],
   "source": [
    "# for\n",
    "\n",
    "for i in [5,4,3,2,1]:\n",
    "    print(i)\n",
    "print('Blastoff')"
   ]
  },
  {
   "cell_type": "code",
   "execution_count": 9,
   "metadata": {},
   "outputs": [
    {
     "name": "stdout",
     "output_type": "stream",
     "text": [
      "Happy new year: Joesph\n",
      "Happy new year: Glenn\n",
      "Happy new year: Sally\n",
      "Done!\n"
     ]
    }
   ],
   "source": [
    "friends = ['Joesph','Glenn','Sally']\n",
    "for friend in friends:                # the 'friend' is just like using i\n",
    "    print('Happy new year:', friend)\n",
    "print('Done!')"
   ]
  },
  {
   "cell_type": "code",
   "execution_count": null,
   "metadata": {},
   "outputs": [],
   "source": []
  }
 ],
 "metadata": {
  "kernelspec": {
   "display_name": "Python 3",
   "language": "python",
   "name": "python3"
  },
  "language_info": {
   "codemirror_mode": {
    "name": "ipython",
    "version": 3
   },
   "file_extension": ".py",
   "mimetype": "text/x-python",
   "name": "python",
   "nbconvert_exporter": "python",
   "pygments_lexer": "ipython3",
   "version": "3.7.4"
  }
 },
 "nbformat": 4,
 "nbformat_minor": 2
}
