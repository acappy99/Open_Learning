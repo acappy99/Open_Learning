{
 "cells": [
  {
   "cell_type": "markdown",
   "metadata": {},
   "source": [
    "# Files"
   ]
  },
  {
   "cell_type": "code",
   "execution_count": 3,
   "metadata": {},
   "outputs": [],
   "source": [
    "fhand = open('mbox.txt')"
   ]
  },
  {
   "cell_type": "code",
   "execution_count": 4,
   "metadata": {},
   "outputs": [
    {
     "data": {
      "text/plain": [
       "<_io.TextIOWrapper name='mbox.txt' mode='r' encoding='UTF-8'>"
      ]
     },
     "execution_count": 4,
     "metadata": {},
     "output_type": "execute_result"
    }
   ],
   "source": [
    "# file handle: something to help you get to the file, not actually opening the file\n",
    "fhand"
   ]
  },
  {
   "cell_type": "markdown",
   "metadata": {},
   "source": [
    "### Newline character"
   ]
  },
  {
   "cell_type": "code",
   "execution_count": 5,
   "metadata": {},
   "outputs": [],
   "source": [
    "stuff = 'Hello\\nWorld'"
   ]
  },
  {
   "cell_type": "code",
   "execution_count": 6,
   "metadata": {},
   "outputs": [
    {
     "data": {
      "text/plain": [
       "'Hello\\nWorld'"
      ]
     },
     "execution_count": 6,
     "metadata": {},
     "output_type": "execute_result"
    }
   ],
   "source": [
    "stuff"
   ]
  },
  {
   "cell_type": "code",
   "execution_count": 7,
   "metadata": {},
   "outputs": [
    {
     "name": "stdout",
     "output_type": "stream",
     "text": [
      "Hello\n",
      "World\n"
     ]
    }
   ],
   "source": [
    "print(stuff)"
   ]
  },
  {
   "cell_type": "code",
   "execution_count": 8,
   "metadata": {},
   "outputs": [
    {
     "data": {
      "text/plain": [
       "11"
      ]
     },
     "execution_count": 8,
     "metadata": {},
     "output_type": "execute_result"
    }
   ],
   "source": [
    "# newline character is a character\n",
    "len(stuff)"
   ]
  },
  {
   "cell_type": "markdown",
   "metadata": {},
   "source": [
    "### Reading files"
   ]
  },
  {
   "cell_type": "code",
   "execution_count": 9,
   "metadata": {
    "scrolled": true
   },
   "outputs": [
    {
     "name": "stdout",
     "output_type": "stream",
     "text": [
      "From stephen.marquard@uct.ac.za Sat Jan  5 09:14:16 2008\n",
      "\n",
      "Return-Path: <postmaster@collab.sakaiproject.org>\n",
      "\n",
      "Date: Sat, 5 Jan 2008 09:12:18 -0500\n",
      "\n",
      "To: source@collab.sakaiproject.org\n",
      "\n",
      "From: stephen.marquard@uct.ac.za\n",
      "\n",
      "Subject: [sakai] svn commit: r39772 - content/branches/\n",
      "\n",
      "\n",
      "\n",
      "Details: http://source.sakaiproject.org/viewsvn/?view=rev&rev=39772\n",
      "\n"
     ]
    }
   ],
   "source": [
    "fhand = open('mbox.txt')\n",
    "for i in fhand:\n",
    "    print(i)"
   ]
  },
  {
   "cell_type": "code",
   "execution_count": 10,
   "metadata": {},
   "outputs": [],
   "source": [
    "# count number of lines in file ="
   ]
  },
  {
   "cell_type": "code",
   "execution_count": 11,
   "metadata": {},
   "outputs": [
    {
     "name": "stdout",
     "output_type": "stream",
     "text": [
      "Line count: 8\n"
     ]
    }
   ],
   "source": [
    "fhand = open('mbox.txt')\n",
    "count = 0\n",
    "for line in fhand:\n",
    "    count = count + 1\n",
    "print('Line count:',count)"
   ]
  },
  {
   "cell_type": "code",
   "execution_count": 12,
   "metadata": {},
   "outputs": [
    {
     "name": "stdout",
     "output_type": "stream",
     "text": [
      "337\n"
     ]
    }
   ],
   "source": [
    "fhand = open('mbox.txt')\n",
    "inp = fhand.read()\n",
    "print(len(inp))"
   ]
  },
  {
   "cell_type": "code",
   "execution_count": 13,
   "metadata": {},
   "outputs": [
    {
     "name": "stdout",
     "output_type": "stream",
     "text": [
      "From stephen.marquar\n"
     ]
    }
   ],
   "source": [
    "print(inp[:20])"
   ]
  },
  {
   "cell_type": "code",
   "execution_count": null,
   "metadata": {},
   "outputs": [],
   "source": []
  },
  {
   "cell_type": "markdown",
   "metadata": {},
   "source": [
    "### Searching through a file"
   ]
  },
  {
   "cell_type": "code",
   "execution_count": 14,
   "metadata": {},
   "outputs": [
    {
     "name": "stdout",
     "output_type": "stream",
     "text": [
      "From stephen.marquard@uct.ac.za Sat Jan  5 09:14:16 2008\n",
      "From: stephen.marquard@uct.ac.za\n"
     ]
    }
   ],
   "source": [
    "fhand = open('mbox.txt')\n",
    "for line in fhand:\n",
    "    line = line.rstrip() # removes the space after each line\n",
    "    if line.startswith('From'):\n",
    "        print(line)"
   ]
  },
  {
   "cell_type": "code",
   "execution_count": 15,
   "metadata": {},
   "outputs": [
    {
     "name": "stdout",
     "output_type": "stream",
     "text": [
      "From stephen.marquard@uct.ac.za Sat Jan  5 09:14:16 2008\n",
      "From: stephen.marquard@uct.ac.za\n"
     ]
    }
   ],
   "source": [
    "fhand = open('mbox.txt')\n",
    "for line in fhand:\n",
    "    line = line.rstrip()\n",
    "    if not '@uct.ac.za' in line:\n",
    "        continue\n",
    "    print(line)"
   ]
  },
  {
   "cell_type": "code",
   "execution_count": null,
   "metadata": {},
   "outputs": [],
   "source": []
  },
  {
   "cell_type": "code",
   "execution_count": 3,
   "metadata": {},
   "outputs": [
    {
     "name": "stdout",
     "output_type": "stream",
     "text": [
      "Enter file name: mbox.txt\n",
      "There are 2 from lines in mbox.txt\n"
     ]
    }
   ],
   "source": [
    "fname = input('Enter file name: ')\n",
    "try:\n",
    "    fhand = open(fname)\n",
    "except:\n",
    "    print('File cannot be opened')\n",
    "    #quit()   # this doesn't seem to be working\n",
    "\n",
    "count = 0\n",
    "for line in fhand:\n",
    "    if line.startswith('From'):\n",
    "        count = count + 1\n",
    "print('There are',count,'from lines in',fname)"
   ]
  },
  {
   "cell_type": "code",
   "execution_count": null,
   "metadata": {},
   "outputs": [],
   "source": []
  },
  {
   "cell_type": "code",
   "execution_count": null,
   "metadata": {},
   "outputs": [],
   "source": []
  }
 ],
 "metadata": {
  "kernelspec": {
   "display_name": "Python 3",
   "language": "python",
   "name": "python3"
  },
  "language_info": {
   "codemirror_mode": {
    "name": "ipython",
    "version": 3
   },
   "file_extension": ".py",
   "mimetype": "text/x-python",
   "name": "python",
   "nbconvert_exporter": "python",
   "pygments_lexer": "ipython3",
   "version": "3.7.4"
  }
 },
 "nbformat": 4,
 "nbformat_minor": 2
}
